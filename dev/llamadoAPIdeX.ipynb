{
  "nbformat": 4,
  "nbformat_minor": 0,
  "metadata": {
    "colab": {
      "provenance": [],
      "gpuType": "T4"
    },
    "kernelspec": {
      "name": "python3",
      "display_name": "Python 3"
    },
    "language_info": {
      "name": "python"
    },
    "accelerator": "GPU"
  },
  "cells": [
    {
      "cell_type": "code",
      "source": [
        "!pip install requests"
      ],
      "metadata": {
        "colab": {
          "base_uri": "https://localhost:8080/"
        },
        "id": "J1GC66WJKiZY",
        "outputId": "de20b4f2-ad36-406f-d1e5-8813c7a287e9"
      },
      "execution_count": null,
      "outputs": [
        {
          "output_type": "stream",
          "name": "stdout",
          "text": [
            "Requirement already satisfied: requests in /usr/local/lib/python3.11/dist-packages (2.32.3)\n",
            "Requirement already satisfied: charset-normalizer<4,>=2 in /usr/local/lib/python3.11/dist-packages (from requests) (3.4.2)\n",
            "Requirement already satisfied: idna<4,>=2.5 in /usr/local/lib/python3.11/dist-packages (from requests) (3.10)\n",
            "Requirement already satisfied: urllib3<3,>=1.21.1 in /usr/local/lib/python3.11/dist-packages (from requests) (2.4.0)\n",
            "Requirement already satisfied: certifi>=2017.4.17 in /usr/local/lib/python3.11/dist-packages (from requests) (2025.4.26)\n"
          ]
        }
      ]
    },
    {
      "cell_type": "code",
      "execution_count": null,
      "metadata": {
        "colab": {
          "base_uri": "https://localhost:8080/"
        },
        "id": "_dvruGe0KA9b",
        "outputId": "a384f485-4c1a-4743-fe64-bc1f83afda82"
      },
      "outputs": [
        {
          "output_type": "stream",
          "name": "stdout",
          "text": [
            "ID de DavooXeneizeJRR: 836969699665670145\n",
            "1. [2025-05-31T20:55:05.000Z]\n",
            "@lautarodeIcampo Eso Cobrita querido, después nos bardean y hoy, un colega como lo es Luis, logró ganar la Champions, y mucho tuvo que ver los consejos que vos le diste. Sé que no lo vas a decir porque sos humilde, pero sé que hablaron…\n",
            "------------------------------------------------------------\n",
            "2. [2025-05-31T20:53:57.000Z]\n",
            "“Sin Mbappé seremos mejores” dijo Luis Enrique hace un año. Se le fue Kylian y ganó la Champions eliminando a media Premier League y protagonizando la final mas dispareja de la historia de la UCL. Ahora irá por el sextete. Su equipo es una máquina. El tiempo le dio la razón.\n",
            "------------------------------------------------------------\n",
            "3. [2025-05-31T20:49:30.000Z]\n",
            "@FeliciShiny Muchas gracias!! De Luis Enrique que opinas?\n",
            "------------------------------------------------------------\n",
            "4. [2025-05-31T20:48:25.000Z]\n",
            "Describilo en una palabra. https://t.co/W4OvS37vUI\n",
            "------------------------------------------------------------\n",
            "5. [2025-05-31T20:28:46.000Z]\n",
            "Y podemos hablar maravillas de Doué y de básicamente todos jugadores del PSG, pero el jugador más importante que tiene el equipo de Luis Enrique es Vitinha. \n",
            "\n",
            "La rompió en la UCL y Eurocopa 2024, y ahora es figura en la del 2025. Extraordinaria su final y su temporada.\n",
            "------------------------------------------------------------\n",
            "6. [2025-05-31T20:26:22.000Z]\n",
            "No recuerdo ver una final de Champions League tan dispareja como esta. El PSG lo está aplastando al Inter desde que comenzó el partido. En ningún momento fue pareja la final.\n",
            "------------------------------------------------------------\n",
            "7. [2025-05-28T20:58:50.000Z]\n",
            "@lautarodeIcampo Ah, jugó Antony?\n",
            "------------------------------------------------------------\n",
            "8. [2025-05-27T18:28:09.000Z]\n",
            "@enbajafutbol @MotivacionesF Es que es eso. Siento que si llegaba a primera, hoy no sería streamer, sería jugador de fútbol. Y si me queda una, y la meto, es gol…\n",
            "------------------------------------------------------------\n",
            "9. [2025-05-27T18:24:45.000Z]\n",
            "@MotivacionesF Qué cerca estuve, me quiero morir.\n",
            "------------------------------------------------------------\n",
            "10. [2025-05-21T21:06:26.000Z]\n",
            "@lautarodeIcampo Es que el Tottenham nos termina ganando porque hace un gol más que nosotros. Fue parejo. Yo creo que si el Manchester metía dos goles salía campeón.\n",
            "------------------------------------------------------------\n"
          ]
        }
      ],
      "source": [
        "import requests\n",
        "\n",
        "BEARER_TOKEN = \"%2FS2tn3UtSwh9O1HqBYZx8MdU%3Dj3UwWrQgabJWPehxgqspuvBqWQwofrqwCgdrTkIaembBBymv0I\"\n",
        "\n",
        "headers = {\n",
        "    \"Authorization\": f\"Bearer {BEARER_TOKEN}\"\n",
        "}\n",
        "\n",
        "username = \"DavooXeneizeJRR\"\n",
        "url = f\"https://api.twitter.com/2/users/by/username/{username}\"\n",
        "\n",
        "resp = requests.get(url, headers=headers)\n",
        "\n",
        "if resp.status_code == 200:\n",
        "    user_id = resp.json()[\"data\"][\"id\"]\n",
        "    print(f\"ID de {username}: {user_id}\")\n",
        "else:\n",
        "    print(f\"Error: {resp.status_code} - {resp.text}\")\n",
        "\n",
        "url = f\"https://api.twitter.com/2/users/{user_id}/tweets\"\n",
        "\n",
        "params = {\n",
        "    \"max_results\": 10,  # hasta 100 por request\n",
        "    \"tweet.fields\": \"created_at,text\"\n",
        "}\n",
        "\n",
        "resp = requests.get(url, headers=headers, params=params)\n",
        "\n",
        "if resp.status_code == 200:\n",
        "    tweets = resp.json().get(\"data\", [])\n",
        "    for i, tweet in enumerate(tweets, 1):\n",
        "        print(f\"{i}. [{tweet['created_at']}]\\n{tweet['text']}\\n{'-'*60}\")\n",
        "else:\n",
        "    print(f\"Error: {resp.status_code} - {resp.text}\")"
      ]
    }
  ]
}